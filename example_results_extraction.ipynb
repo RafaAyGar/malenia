{
 "cells": [
  {
   "attachments": {},
   "cell_type": "markdown",
   "metadata": {},
   "source": [
    "# **Results extractor**\n",
    "This script unifies the result extracting framework of the malenia package"
   ]
  },
  {
   "cell_type": "code",
   "execution_count": 1,
   "metadata": {},
   "outputs": [],
   "source": [
    "import matplotlib.pyplot as plt\n",
    "from malenia.results import Results\n",
    "from sklearn.metrics import mean_absolute_error, accuracy_score, cohen_kappa_score\n",
    "from malenia.results_utils import Metric\n",
    "\n",
    "%matplotlib inline"
   ]
  },
  {
   "cell_type": "code",
   "execution_count": 2,
   "metadata": {},
   "outputs": [],
   "source": [
    "##\n",
    "#\n",
    "RESULTS_PATH = \"../results/FINAL_ordinal_experiments\"\n",
    "#\n",
    "# DATA = \"../../DATA/tsoc_separated\"\n",
    "#\n",
    "DATA = [\n",
    "    'ProximalPhalanxOutlineAgeGroup',\n",
    "    'Covid3Month_5b',\n",
    "    'ProximalPhalanxTW',\n",
    "    'MiddlePhalanxOutlineAgeGroup',\n",
    "    'EthanolLevel',\n",
    "    'AppliancesEnergy_5b',\n",
    "    'DistalPhalanxOutlineAgeGroup',\n",
    "    'MiddlePhalanxTW',\n",
    "    'EthanolConcentration',\n",
    "    'AtrialFibrillation',\n",
    "    'USASouthwestEnergyFlux_4b',\n",
    "    'USASouthwestSWH_4b',\n",
    "    'DistalPhalanxTW',\n",
    "    'GOOG',\n",
    "    'MSFT',\n",
    "    'META',\n",
    "    'AMZN',\n",
    "    'AAPL',\n",
    "]\n",
    "#\n",
    "METHODS = {\n",
    "   #\"METHOD-PrettyName\" : [\"method_name_in_results_file\", hasMultivariatePredictions]\n",
    "    \"BOSS\" : [\"BOSS\", False],\n",
    "    \"cBOSS\" : [\"cBoss\", False],\n",
    "    \"WEASEL\" : [\"WEASEL\", False],\n",
    "}\n",
    "#\n",
    "METRICS = {\n",
    "    \"mae\": Metric(mean_absolute_error),\n",
    "    \"ccr\": Metric(accuracy_score),\n",
    "    \"qwk\": Metric(cohen_kappa_score, weights=\"quadratic\"),\n",
    "}\n",
    "#\n",
    "SEEDS = 2\n",
    "#\n",
    "ROUNDING_DECIMALS = 3\n",
    "#\n",
    "##"
   ]
  },
  {
   "cell_type": "code",
   "execution_count": 3,
   "metadata": {},
   "outputs": [],
   "source": [
    "r = Results(datasets=DATA, methods=METHODS, metrics=METRICS, results_path=RESULTS_PATH, seeds=SEEDS, rounding_decimals=ROUNDING_DECIMALS)\n",
    "r.evaluate(verbose = False) ## !!! Danger with the verbose flag !!"
   ]
  },
  {
   "cell_type": "markdown",
   "metadata": {},
   "source": [
    "__________________________________"
   ]
  },
  {
   "attachments": {},
   "cell_type": "markdown",
   "metadata": {},
   "source": [
    "### **Get results by method**"
   ]
  },
  {
   "cell_type": "code",
   "execution_count": 4,
   "metadata": {},
   "outputs": [
    {
     "data": {
      "text/html": [
       "<div>\n",
       "<style scoped>\n",
       "    .dataframe tbody tr th:only-of-type {\n",
       "        vertical-align: middle;\n",
       "    }\n",
       "\n",
       "    .dataframe tbody tr th {\n",
       "        vertical-align: top;\n",
       "    }\n",
       "\n",
       "    .dataframe thead th {\n",
       "        text-align: right;\n",
       "    }\n",
       "</style>\n",
       "<table border=\"1\" class=\"dataframe\">\n",
       "  <thead>\n",
       "    <tr style=\"text-align: right;\">\n",
       "      <th></th>\n",
       "      <th>mae</th>\n",
       "      <th>ccr</th>\n",
       "      <th>qwk</th>\n",
       "    </tr>\n",
       "    <tr>\n",
       "      <th>method</th>\n",
       "      <th></th>\n",
       "      <th></th>\n",
       "      <th></th>\n",
       "    </tr>\n",
       "  </thead>\n",
       "  <tbody>\n",
       "    <tr>\n",
       "      <th>BOSS</th>\n",
       "      <td>0.714</td>\n",
       "      <td>0.514</td>\n",
       "      <td>0.336</td>\n",
       "    </tr>\n",
       "    <tr>\n",
       "      <th>cBOSS</th>\n",
       "      <td>0.701</td>\n",
       "      <td>0.519</td>\n",
       "      <td>0.333</td>\n",
       "    </tr>\n",
       "    <tr>\n",
       "      <th>WEASEL</th>\n",
       "      <td>0.674</td>\n",
       "      <td>0.532</td>\n",
       "      <td>0.375</td>\n",
       "    </tr>\n",
       "    <tr>\n",
       "      <th>O-TDE</th>\n",
       "      <td>0.642</td>\n",
       "      <td>0.538</td>\n",
       "      <td>0.386</td>\n",
       "    </tr>\n",
       "    <tr>\n",
       "      <th>TDE</th>\n",
       "      <td>0.638</td>\n",
       "      <td>0.544</td>\n",
       "      <td>0.387</td>\n",
       "    </tr>\n",
       "  </tbody>\n",
       "</table>\n",
       "</div>"
      ],
      "text/plain": [
       "          mae    ccr    qwk\n",
       "method                     \n",
       "BOSS    0.714  0.514  0.336\n",
       "cBOSS   0.701  0.519  0.333\n",
       "WEASEL  0.674  0.532  0.375\n",
       "O-TDE   0.642  0.538  0.386\n",
       "TDE     0.638  0.544  0.387"
      ]
     },
     "execution_count": 4,
     "metadata": {},
     "output_type": "execute_result"
    }
   ],
   "source": [
    "r.get_results_by_method()"
   ]
  },
  {
   "cell_type": "markdown",
   "metadata": {},
   "source": [
    "__________________________________"
   ]
  },
  {
   "attachments": {},
   "cell_type": "markdown",
   "metadata": {},
   "source": [
    "### **Get wins | ties | losses** (falta corregir implementación)"
   ]
  },
  {
   "cell_type": "code",
   "execution_count": 5,
   "metadata": {},
   "outputs": [],
   "source": [
    "# r.get_wins_ties_losses(\"mae\")"
   ]
  },
  {
   "cell_type": "markdown",
   "metadata": {},
   "source": [
    "__________________________________"
   ]
  },
  {
   "attachments": {},
   "cell_type": "markdown",
   "metadata": {},
   "source": [
    "### **Get results by dataset for a specific metric**"
   ]
  },
  {
   "cell_type": "code",
   "execution_count": 7,
   "metadata": {},
   "outputs": [
    {
     "data": {
      "text/html": [
       "<div>\n",
       "<style scoped>\n",
       "    .dataframe tbody tr th:only-of-type {\n",
       "        vertical-align: middle;\n",
       "    }\n",
       "\n",
       "    .dataframe tbody tr th {\n",
       "        vertical-align: top;\n",
       "    }\n",
       "\n",
       "    .dataframe thead th {\n",
       "        text-align: right;\n",
       "    }\n",
       "</style>\n",
       "<table border=\"1\" class=\"dataframe\">\n",
       "  <thead>\n",
       "    <tr style=\"text-align: right;\">\n",
       "      <th></th>\n",
       "      <th>BOSS</th>\n",
       "      <th>cBOSS</th>\n",
       "      <th>WEASEL</th>\n",
       "      <th>TDE</th>\n",
       "      <th>O-TDE</th>\n",
       "    </tr>\n",
       "    <tr>\n",
       "      <th>dataset</th>\n",
       "      <th></th>\n",
       "      <th></th>\n",
       "      <th></th>\n",
       "      <th></th>\n",
       "      <th></th>\n",
       "    </tr>\n",
       "  </thead>\n",
       "  <tbody>\n",
       "    <tr>\n",
       "      <th>AAPL</th>\n",
       "      <td>1.349</td>\n",
       "      <td>1.332</td>\n",
       "      <td>1.268</td>\n",
       "      <td>1.332</td>\n",
       "      <td>1.300</td>\n",
       "    </tr>\n",
       "    <tr>\n",
       "      <th>AMZN</th>\n",
       "      <td>1.411</td>\n",
       "      <td>1.382</td>\n",
       "      <td>1.255</td>\n",
       "      <td>1.311</td>\n",
       "      <td>1.340</td>\n",
       "    </tr>\n",
       "    <tr>\n",
       "      <th>AppliancesEnergy_5b</th>\n",
       "      <td>0.731</td>\n",
       "      <td>0.577</td>\n",
       "      <td>0.675</td>\n",
       "      <td>0.524</td>\n",
       "      <td>0.524</td>\n",
       "    </tr>\n",
       "    <tr>\n",
       "      <th>AtrialFibrillation</th>\n",
       "      <td>0.917</td>\n",
       "      <td>0.934</td>\n",
       "      <td>0.916</td>\n",
       "      <td>0.900</td>\n",
       "      <td>0.900</td>\n",
       "    </tr>\n",
       "    <tr>\n",
       "      <th>Covid3Month_5b</th>\n",
       "      <td>0.730</td>\n",
       "      <td>0.778</td>\n",
       "      <td>0.730</td>\n",
       "      <td>0.754</td>\n",
       "      <td>0.786</td>\n",
       "    </tr>\n",
       "    <tr>\n",
       "      <th>DistalPhalanxOutlineAgeGroup</th>\n",
       "      <td>0.194</td>\n",
       "      <td>0.223</td>\n",
       "      <td>0.230</td>\n",
       "      <td>0.234</td>\n",
       "      <td>0.226</td>\n",
       "    </tr>\n",
       "    <tr>\n",
       "      <th>DistalPhalanxTW</th>\n",
       "      <td>0.392</td>\n",
       "      <td>0.402</td>\n",
       "      <td>0.374</td>\n",
       "      <td>0.428</td>\n",
       "      <td>0.421</td>\n",
       "    </tr>\n",
       "    <tr>\n",
       "      <th>EthanolConcentration</th>\n",
       "      <td>0.842</td>\n",
       "      <td>0.913</td>\n",
       "      <td>0.624</td>\n",
       "      <td>0.578</td>\n",
       "      <td>0.671</td>\n",
       "    </tr>\n",
       "    <tr>\n",
       "      <th>EthanolLevel</th>\n",
       "      <td>0.627</td>\n",
       "      <td>0.657</td>\n",
       "      <td>0.607</td>\n",
       "      <td>0.487</td>\n",
       "      <td>0.466</td>\n",
       "    </tr>\n",
       "    <tr>\n",
       "      <th>GOOG</th>\n",
       "      <td>1.142</td>\n",
       "      <td>1.120</td>\n",
       "      <td>1.071</td>\n",
       "      <td>0.956</td>\n",
       "      <td>0.915</td>\n",
       "    </tr>\n",
       "    <tr>\n",
       "      <th>META</th>\n",
       "      <td>1.214</td>\n",
       "      <td>1.184</td>\n",
       "      <td>1.199</td>\n",
       "      <td>1.146</td>\n",
       "      <td>1.102</td>\n",
       "    </tr>\n",
       "    <tr>\n",
       "      <th>MSFT</th>\n",
       "      <td>1.102</td>\n",
       "      <td>1.114</td>\n",
       "      <td>1.028</td>\n",
       "      <td>1.042</td>\n",
       "      <td>0.990</td>\n",
       "    </tr>\n",
       "    <tr>\n",
       "      <th>MiddlePhalanxOutlineAgeGroup</th>\n",
       "      <td>0.422</td>\n",
       "      <td>0.389</td>\n",
       "      <td>0.448</td>\n",
       "      <td>0.354</td>\n",
       "      <td>0.384</td>\n",
       "    </tr>\n",
       "    <tr>\n",
       "      <th>MiddlePhalanxTW</th>\n",
       "      <td>0.633</td>\n",
       "      <td>0.598</td>\n",
       "      <td>0.626</td>\n",
       "      <td>0.494</td>\n",
       "      <td>0.584</td>\n",
       "    </tr>\n",
       "    <tr>\n",
       "      <th>ProximalPhalanxOutlineAgeGroup</th>\n",
       "      <td>0.148</td>\n",
       "      <td>0.129</td>\n",
       "      <td>0.146</td>\n",
       "      <td>0.139</td>\n",
       "      <td>0.139</td>\n",
       "    </tr>\n",
       "    <tr>\n",
       "      <th>ProximalPhalanxTW</th>\n",
       "      <td>0.224</td>\n",
       "      <td>0.220</td>\n",
       "      <td>0.226</td>\n",
       "      <td>0.200</td>\n",
       "      <td>0.222</td>\n",
       "    </tr>\n",
       "    <tr>\n",
       "      <th>USASouthwestEnergyFlux_4b</th>\n",
       "      <td>0.218</td>\n",
       "      <td>0.218</td>\n",
       "      <td>0.217</td>\n",
       "      <td>0.227</td>\n",
       "      <td>0.216</td>\n",
       "    </tr>\n",
       "    <tr>\n",
       "      <th>USASouthwestSWH_4b</th>\n",
       "      <td>0.560</td>\n",
       "      <td>0.444</td>\n",
       "      <td>0.494</td>\n",
       "      <td>0.386</td>\n",
       "      <td>0.376</td>\n",
       "    </tr>\n",
       "  </tbody>\n",
       "</table>\n",
       "</div>"
      ],
      "text/plain": [
       "                                 BOSS  cBOSS  WEASEL    TDE  O-TDE\n",
       "dataset                                                           \n",
       "AAPL                            1.349  1.332   1.268  1.332  1.300\n",
       "AMZN                            1.411  1.382   1.255  1.311  1.340\n",
       "AppliancesEnergy_5b             0.731  0.577   0.675  0.524  0.524\n",
       "AtrialFibrillation              0.917  0.934   0.916  0.900  0.900\n",
       "Covid3Month_5b                  0.730  0.778   0.730  0.754  0.786\n",
       "DistalPhalanxOutlineAgeGroup    0.194  0.223   0.230  0.234  0.226\n",
       "DistalPhalanxTW                 0.392  0.402   0.374  0.428  0.421\n",
       "EthanolConcentration            0.842  0.913   0.624  0.578  0.671\n",
       "EthanolLevel                    0.627  0.657   0.607  0.487  0.466\n",
       "GOOG                            1.142  1.120   1.071  0.956  0.915\n",
       "META                            1.214  1.184   1.199  1.146  1.102\n",
       "MSFT                            1.102  1.114   1.028  1.042  0.990\n",
       "MiddlePhalanxOutlineAgeGroup    0.422  0.389   0.448  0.354  0.384\n",
       "MiddlePhalanxTW                 0.633  0.598   0.626  0.494  0.584\n",
       "ProximalPhalanxOutlineAgeGroup  0.148  0.129   0.146  0.139  0.139\n",
       "ProximalPhalanxTW               0.224  0.220   0.226  0.200  0.222\n",
       "USASouthwestEnergyFlux_4b       0.218  0.218   0.217  0.227  0.216\n",
       "USASouthwestSWH_4b              0.560  0.444   0.494  0.386  0.376"
      ]
     },
     "execution_count": 7,
     "metadata": {},
     "output_type": "execute_result"
    }
   ],
   "source": [
    "specific_metric = \"mae\"\n",
    "r.get_results_by_dataset_metric(specific_metric)"
   ]
  },
  {
   "attachments": {},
   "cell_type": "markdown",
   "metadata": {},
   "source": [
    "__________________________________"
   ]
  },
  {
   "attachments": {},
   "cell_type": "markdown",
   "metadata": {},
   "source": [
    "### Get **Critical Difference Diagram** for a specific metric\n",
    "\n",
    "Warning! - If you rerun the cell without restarting the notebook kernel, the plot will be slightly different (idk why)"
   ]
  },
  {
   "cell_type": "code",
   "execution_count": 8,
   "metadata": {},
   "outputs": [
    {
     "data": {
      "text/plain": [
       "<Figure size 640x480 with 0 Axes>"
      ]
     },
     "metadata": {},
     "output_type": "display_data"
    },
    {
     "data": {
      "image/png": "[encoded data removed]",
      "text/plain": [
       "<Figure size 640x480 with 1 Axes>"
      ]
     },
     "metadata": {},
     "output_type": "display_data"
    }
   ],
   "source": [
    "r.cd(\n",
    "    metric_name = \"mae\",\n",
    "    greaterIsBetter = False,\n",
    "    savefile = None\n",
    ")"
   ]
  },
  {
   "cell_type": "markdown",
   "metadata": {},
   "source": [
    "__________________________________"
   ]
  },
  {
   "attachments": {},
   "cell_type": "markdown",
   "metadata": {},
   "source": [
    "### Get **Box Plot** along datasets for a specific metric"
   ]
  },
  {
   "cell_type": "code",
   "execution_count": 12,
   "metadata": {},
   "outputs": [
    {
     "data": {
      "image/png": "[encoded data removed]",
      "text/plain": [
       "<Figure size 700x400 with 1 Axes>"
      ]
     },
     "metadata": {},
     "output_type": "display_data"
    }
   ],
   "source": [
    "r.plot_Boxplot(\n",
    "    metric_name = \"mae\",\n",
    "    figsize = (7, 4)\n",
    ")"
   ]
  },
  {
   "cell_type": "markdown",
   "metadata": {},
   "source": [
    "__________________________________"
   ]
  }
 ],
 "metadata": {
  "kernelspec": {
   "display_name": "sklearn-env",
   "language": "python",
   "name": "python3"
  },
  "language_info": {
   "codemirror_mode": {
    "name": "ipython",
    "version": 3
   },
   "file_extension": ".py",
   "mimetype": "text/x-python",
   "name": "python",
   "nbconvert_exporter": "python",
   "pygments_lexer": "ipython3",
   "version": "3.9.15"
  },
  "orig_nbformat": 4
 },
 "nbformat": 4,
 "nbformat_minor": 2
}
